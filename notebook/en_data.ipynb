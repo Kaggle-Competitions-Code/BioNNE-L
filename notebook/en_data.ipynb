{
 "cells": [
  {
   "cell_type": "code",
   "execution_count": 93,
   "id": "388172d2-8f95-442c-b36d-7cf7e6b5d3ce",
   "metadata": {},
   "outputs": [],
   "source": [
    "import os\n",
    "import pandas as pd\n",
    "from glob import glob\n",
    "\n",
    "from datasets import load_dataset"
   ]
  },
  {
   "cell_type": "code",
   "execution_count": 3,
   "id": "85987401-de2b-40c9-9477-10ad75ccca0a",
   "metadata": {},
   "outputs": [],
   "source": [
    "PATH_DATA_EN = \"/media/f/lichunyu/BioNNE-L/data/NEREL-BIO/BioNNE-L_Shared_Task/data/texts/en\""
   ]
  },
  {
   "cell_type": "code",
   "execution_count": 91,
   "id": "30a22842-910d-4c1f-be98-c03f8ef5324a",
   "metadata": {},
   "outputs": [
    {
     "name": "stdout",
     "output_type": "stream",
     "text": [
      "25591652_en.txt  26281190_en.txt  26591552_en.txt  26978176_en.txt\n",
      "25823269_en.txt  26281196_en.txt  26600613_en.txt  26978232_en.txt\n",
      "25842921_en.txt  26355933_en.txt  26821417_en.txt  26978418_en.txt\n",
      "25842923_en.txt  26355937_en.txt  26821419_en.txt  26978491_en.txt\n",
      "26027241_en.txt  26356162_en.txt  26845866_en.txt  26978499_en.txt\n",
      "26036067_en.txt  26356615_en.txt  26977615_en.txt  26978504_en.txt\n",
      "26036068_en.txt  26356617_en.txt  26977625_en.txt  26978635_en.txt\n",
      "26081319_en.txt  26390722_en.txt  26977723_en.txt  26978639_en.txt\n",
      "26081328_en.txt  26485778_en.txt  26977764_en.txt  27029445_en.txt\n",
      "26081340_en.txt  26525480_en.txt  26977789_en.txt  27030091_en.txt\n",
      "26120981_en.txt  26529536_en.txt  26977790_en.txt  27030332_en.txt\n",
      "26226776_en.txt  26529621_en.txt  26977916_en.txt  27030431_en.txt\n",
      "26245096_en.txt  26549907_en.txt  26978051_en.txt\n",
      "26271558_en.txt  26569010_en.txt  26978172_en.txt\n"
     ]
    }
   ],
   "source": [
    "!ls /media/f/lichunyu/BioNNE-L/data/NEREL-BIO/BioNNE-L_Shared_Task/data/texts/en/train"
   ]
  },
  {
   "cell_type": "code",
   "execution_count": 100,
   "id": "b5290534-8239-4aa8-b796-81ed2e713bd0",
   "metadata": {},
   "outputs": [
    {
     "data": {
      "application/vnd.jupyter.widget-view+json": {
       "model_id": "ef5bcf4f2bed4f3ca62fb5132278d957",
       "version_major": 2,
       "version_minor": 0
      },
      "text/plain": [
       "bionnel_vocab_bilingual.parquet:   0%|          | 0.00/73.1M [00:00<?, ?B/s]"
      ]
     },
     "metadata": {},
     "output_type": "display_data"
    },
    {
     "data": {
      "application/vnd.jupyter.widget-view+json": {
       "model_id": "095e03285193497fbc0f9e02e0511337",
       "version_major": 2,
       "version_minor": 0
      },
      "text/plain": [
       "Generating train split:   0%|          | 0/4283983 [00:00<?, ? examples/s]"
      ]
     },
     "metadata": {},
     "output_type": "display_data"
    }
   ],
   "source": [
    "vocab = load_dataset(\"andorei/BioNNE-L\", \"Vocabulary\", split=\"train\")"
   ]
  },
  {
   "cell_type": "code",
   "execution_count": 106,
   "id": "323187df-b578-4b1f-9367-0f8ad97ad58e",
   "metadata": {},
   "outputs": [
    {
     "data": {
      "text/plain": [
       "Dataset({\n",
       "    features: ['CUI', 'semantic_type', 'concept_name'],\n",
       "    num_rows: 4283983\n",
       "})"
      ]
     },
     "execution_count": 106,
     "metadata": {},
     "output_type": "execute_result"
    }
   ],
   "source": [
    "vocab"
   ]
  },
  {
   "cell_type": "code",
   "execution_count": 102,
   "id": "92874436-505e-423a-b256-795f7bbf5f76",
   "metadata": {},
   "outputs": [
    {
     "name": "stdout",
     "output_type": "stream",
     "text": [
      "C0036572\n",
      "C1959629\n",
      "C4553401\n"
     ]
    }
   ],
   "source": [
    "for i in vocab:\n",
    "    concept_name = i[\"concept_name\"]\n",
    "    if concept_name == dataset[0][\"text\"]:\n",
    "        print(i[\"CUI\"])"
   ]
  },
  {
   "cell_type": "code",
   "execution_count": 4,
   "id": "2304b251-bccf-4584-8751-90913ba4c3ba",
   "metadata": {},
   "outputs": [
    {
     "data": {
      "application/vnd.jupyter.widget-view+json": {
       "model_id": "411b0b7138994554a86dd9fb042bea89",
       "version_major": 2,
       "version_minor": 0
      },
      "text/plain": [
       "README.md:   0%|          | 0.00/4.36k [00:00<?, ?B/s]"
      ]
     },
     "metadata": {},
     "output_type": "display_data"
    },
    {
     "data": {
      "application/vnd.jupyter.widget-view+json": {
       "model_id": "84df85431ae34de691a61702adc0f99f",
       "version_major": 2,
       "version_minor": 0
      },
      "text/plain": [
       "bionnel_en_train.parquet:   0%|          | 0.00/55.1k [00:00<?, ?B/s]"
      ]
     },
     "metadata": {},
     "output_type": "display_data"
    },
    {
     "data": {
      "application/vnd.jupyter.widget-view+json": {
       "model_id": "6f0b6101613647d0b89da38920646657",
       "version_major": 2,
       "version_minor": 0
      },
      "text/plain": [
       "bionnel_en_dev.parquet:   0%|          | 0.00/50.3k [00:00<?, ?B/s]"
      ]
     },
     "metadata": {},
     "output_type": "display_data"
    },
    {
     "data": {
      "application/vnd.jupyter.widget-view+json": {
       "model_id": "013052c279da45bb98f5a0bc553f9e3d",
       "version_major": 2,
       "version_minor": 0
      },
      "text/plain": [
       "Generating train split:   0%|          | 0/2690 [00:00<?, ? examples/s]"
      ]
     },
     "metadata": {},
     "output_type": "display_data"
    },
    {
     "data": {
      "application/vnd.jupyter.widget-view+json": {
       "model_id": "2dfee7a56c0a449499f9e3b8f2558945",
       "version_major": 2,
       "version_minor": 0
      },
      "text/plain": [
       "Generating dev split:   0%|          | 0/2494 [00:00<?, ? examples/s]"
      ]
     },
     "metadata": {},
     "output_type": "display_data"
    },
    {
     "data": {
      "text/plain": [
       "Dataset({\n",
       "    features: ['document_id', 'text', 'entity_type', 'spans', 'UMLS_CUI'],\n",
       "    num_rows: 2690\n",
       "})"
      ]
     },
     "execution_count": 4,
     "metadata": {},
     "output_type": "execute_result"
    }
   ],
   "source": [
    "dataset = load_dataset(\"andorei/BioNNE-L\", \"English\", split=\"train\")\n",
    "dataset"
   ]
  },
  {
   "cell_type": "code",
   "execution_count": 98,
   "id": "3d312f53-94b4-4852-8006-0425c0eda1b0",
   "metadata": {},
   "outputs": [
    {
     "data": {
      "text/plain": [
       "{'document_id': '25591652_en',\n",
       " 'text': 'Seizure',\n",
       " 'entity_type': 'DISO',\n",
       " 'spans': '976-983',\n",
       " 'UMLS_CUI': 'C0949003'}"
      ]
     },
     "execution_count": 98,
     "metadata": {},
     "output_type": "execute_result"
    }
   ],
   "source": [
    "dataset[0]"
   ]
  },
  {
   "cell_type": "code",
   "execution_count": 105,
   "id": "e8161e81-c171-43db-8742-648b2af80fc5",
   "metadata": {},
   "outputs": [
    {
     "name": "stdout",
     "output_type": "stream",
     "text": [
      "Objective.\n",
      "To analyze epileptic seizure aggravation associated with antiepileptic drugs (AED) in adult patients.\n",
      "Material and methods.\n",
      "We examined 1407 patients aged 18-89 years. \n",
      "Different patterns of seizure aggravation were identified in 103 patients. \n",
      "Results.\n",
      "Aggravated seizures due the generic substitution were found in 32 patients. \n",
      "First was topiramate (TPM) (n=12), followed by valproates (VPA) (n=8), carbamazepine (CBZ) (n=5), lamotrigine (LTG) (n=1) and levetiracetam (LEV) (n=1). \n",
      "Patients with idiopathic generalized epilepsies (IGE) suffered aggravation with CBZ in 17 cases, VPA - in 6, TPM - in 6, LTG - in 1 and LEV - in 1. \n",
      "CBZ aggravated absences in patients with juvenile absence epilepsy (JAE) were found in 5 cases of 17 (29.4%), with childhood absence epilepsy (CAE) - in 1 of 24 (4.2%), absences and myoclonic jerks in juvenile myoclonic epilepsy (JME) - in 9 of 47 (19.1%), absences with eyelid myoclonus (Jeavons syndrome) - in 2 of 11 (18.2%).  \n",
      "Seizure aggravations with different AEDs were observed in 13 patients. \n",
      "This pattern of aggravation was associated with resistant epilepsy and poor prognosis.  \n",
      "Seizure aggravation due to increasing the dose of AEDs was found in 10 cases and associated with resistant epilepsy and poor outcome. \n",
      "\"True\" aggravation was associated with CBZ in 34 patients, including 16 IGE patients, with TPM - in 13, VPA - 5, LTG - 5, LEV - 2 and with clonazepam in 1 patient. \n",
      "Most often seizure aggravation was associated with CBZ in IGE patients (8.3%), and with LTG, TPM and CBZ in patients with other epileptic syndromes (non IGE): 4.9%, 4% and 3.7%, respectively. \n",
      "Conclusions. \n",
      "Different AEDs can cause aggravation. \n",
      "Seizures aggravation after generic substitution was characteristic of TPM most frequently. \n",
      "Seizure aggravation with different AEDs and due to increasing the dose of AEDs was associated with poor outcome. \n",
      "In all cases, seizure aggravation was more frequently caused by LTG (4.7%), CBZ (3.7%) and TPM (3.3%). \n",
      "To reduce the risk of aggravation, slow AEDs titration and keeping a diary of seizures are required. \n",
      "\n"
     ]
    }
   ],
   "source": [
    "with open(f\"{os.path.join(PATH_DATA_EN, 'train', dataset[0]['document_id'])}.txt\", \"r\") as f:\n",
    "    text = f.read()\n",
    "\n",
    "print(text)"
   ]
  },
  {
   "cell_type": "code",
   "execution_count": 104,
   "id": "abb5fe56-137e-4481-95a4-7c879ce2c19c",
   "metadata": {},
   "outputs": [
    {
     "data": {
      "text/plain": [
       "'Seizure'"
      ]
     },
     "execution_count": 104,
     "metadata": {},
     "output_type": "execute_result"
    }
   ],
   "source": [
    "text[976:983]"
   ]
  },
  {
   "cell_type": "code",
   "execution_count": 92,
   "id": "1f135101-5b1f-4e2b-bd43-e679fbc22acf",
   "metadata": {},
   "outputs": [],
   "source": [
    "data4w2ner = {}\n",
    "train_files = glob(f\"{PATH_DATA_EN}/train/*\")"
   ]
  },
  {
   "cell_type": "code",
   "execution_count": 96,
   "id": "4ad24ee4-4cf9-4f58-aa2b-df03ead20a3a",
   "metadata": {},
   "outputs": [],
   "source": [
    "for i in dataset:\n",
    "    doc_id = dataset[i][\"document_id\"]\n",
    "    "
   ]
  },
  {
   "cell_type": "code",
   "execution_count": null,
   "id": "b2162aca-181d-4036-a9f7-7c33f5c58744",
   "metadata": {},
   "outputs": [],
   "source": []
  },
  {
   "cell_type": "code",
   "execution_count": null,
   "id": "2e6fd17b-48e2-49e3-b989-45826c508b83",
   "metadata": {},
   "outputs": [],
   "source": []
  },
  {
   "cell_type": "code",
   "execution_count": null,
   "id": "fb8c03de-8bca-407a-b0d9-54599978e34f",
   "metadata": {},
   "outputs": [],
   "source": []
  },
  {
   "cell_type": "code",
   "execution_count": null,
   "id": "6c12bd78-6d29-4db8-979b-7f4f0e722cda",
   "metadata": {},
   "outputs": [],
   "source": []
  },
  {
   "cell_type": "code",
   "execution_count": 87,
   "id": "0379a935-9ff9-4e0f-9a77-995248bcc2b3",
   "metadata": {},
   "outputs": [
    {
     "name": "stdout",
     "output_type": "stream",
     "text": [
      "###################\n",
      "Index: 100\n",
      "{'document_id': '25823269_en', 'text': 'PAH', 'entity_type': 'DISO', 'spans': '2255-2258', 'UMLS_CUI': 'C0633561'}\n",
      "###################\n",
      "Index: 101\n",
      "{'document_id': '25823269_en', 'text': 'SDS-associated PAH', 'entity_type': 'DISO', 'spans': '2406-2424', 'UMLS_CUI': 'C3698160'}\n",
      "###################\n",
      "Index: 102\n",
      "{'document_id': '25823269_en', 'text': 'SIPH', 'entity_type': 'DISO', 'spans': '2167-2171', 'UMLS_CUI': 'C1704971'}\n",
      "###################\n",
      "Index: 103\n",
      "{'document_id': '25823269_en', 'text': 'SIPH', 'entity_type': 'DISO', 'spans': '1324-1328', 'UMLS_CUI': 'C1704971'}\n",
      "###################\n",
      "Index: 104\n",
      "{'document_id': '25823269_en', 'text': 'uric acid', 'entity_type': 'CHEM', 'spans': '1763-1772', 'UMLS_CUI': 'C0077879'}\n",
      "###################\n",
      "Index: 105\n",
      "{'document_id': '25823269_en', 'text': 'SIPH', 'entity_type': 'DISO', 'spans': '1737-1741', 'UMLS_CUI': 'C1704971'}\n",
      "###################\n",
      "Index: 106\n",
      "{'document_id': '25823269_en', 'text': 'antibodies', 'entity_type': 'CHEM', 'spans': '1899-1909', 'UMLS_CUI': 'C3495458'}\n",
      "###################\n",
      "Index: 107\n",
      "{'document_id': '25823269_en', 'text': 'SDS', 'entity_type': 'DISO', 'spans': '2406-2409', 'UMLS_CUI': 'C5203411'}\n",
      "###################\n",
      "Index: 108\n",
      "{'document_id': '25823269_en', 'text': 'SDS', 'entity_type': 'DISO', 'spans': '2162-2165', 'UMLS_CUI': 'C5203411'}\n",
      "###################\n",
      "Index: 109\n",
      "{'document_id': '25823269_en', 'text': 'SDS', 'entity_type': 'DISO', 'spans': '411-414', 'UMLS_CUI': 'C5203411'}\n",
      "###################\n",
      "Index: 110\n",
      "{'document_id': '25823269_en', 'text': 'artery', 'entity_type': 'ANATOMY', 'spans': '724-730', 'UMLS_CUI': 'C1268113'}\n",
      "###################\n",
      "Index: 111\n",
      "{'document_id': '25823269_en', 'text': 'pulmonary arterial hypertension', 'entity_type': 'DISO', 'spans': '903-934', 'UMLS_CUI': 'C3203102'}\n",
      "###################\n",
      "Index: 112\n",
      "{'document_id': '25823269_en', 'text': 'SIPH', 'entity_type': 'DISO', 'spans': '325-329', 'UMLS_CUI': 'C1704971'}\n",
      "###################\n",
      "Index: 113\n",
      "{'document_id': '25823269_en', 'text': 'artery', 'entity_type': 'ANATOMY', 'spans': '198-204', 'UMLS_CUI': 'C1268113'}\n",
      "###################\n",
      "Index: 114\n",
      "{'document_id': '25823269_en', 'text': 'artery', 'entity_type': 'ANATOMY', 'spans': '575-581', 'UMLS_CUI': 'C1268113'}\n",
      "###################\n",
      "Index: 115\n",
      "{'document_id': '25823269_en', 'text': 'PAH', 'entity_type': 'DISO', 'spans': '936-939', 'UMLS_CUI': 'C0633561'}\n",
      "###################\n",
      "Index: 116\n",
      "{'document_id': '25823269_en', 'text': 'atrial', 'entity_type': 'ANATOMY', 'spans': '652-658', 'UMLS_CUI': 'C1280619'}\n",
      "###################\n",
      "Index: 117\n",
      "{'document_id': '25823269_en', 'text': 'PAH', 'entity_type': 'DISO', 'spans': '1115-1118', 'UMLS_CUI': 'C0633561'}\n",
      "###################\n",
      "Index: 118\n",
      "{'document_id': '25823269_en', 'text': 'pulmonary vascular', 'entity_type': 'ANATOMY', 'spans': '1631-1649', 'UMLS_CUI': 'C0459963'}\n",
      "###################\n",
      "Index: 119\n",
      "{'document_id': '25823269_en', 'text': 'PAH', 'entity_type': 'DISO', 'spans': '2421-2424', 'UMLS_CUI': 'C0633561'}\n",
      "###################\n",
      "Index: 120\n",
      "{'document_id': '25823269_en', 'text': 'acid', 'entity_type': 'CHEM', 'spans': '1768-1772', 'UMLS_CUI': 'C3654034'}\n",
      "###################\n",
      "Index: 121\n",
      "{'document_id': '25823269_en', 'text': 'lung injuries', 'entity_type': 'DISO', 'spans': '472-476,492-500', 'UMLS_CUI': 'C0273115'}\n",
      "###################\n",
      "Index: 122\n",
      "{'document_id': '25823269_en', 'text': 'PAH', 'entity_type': 'DISO', 'spans': '2280-2283', 'UMLS_CUI': 'C0633561'}\n",
      "###################\n",
      "Index: 123\n",
      "{'document_id': '25823269_en', 'text': 'SIPH', 'entity_type': 'DISO', 'spans': '1565-1569', 'UMLS_CUI': 'C1704971'}\n",
      "###################\n",
      "Index: 124\n",
      "{'document_id': '25823269_en', 'text': 'pulmonary', 'entity_type': 'ANATOMY', 'spans': '714-723', 'UMLS_CUI': 'C4522268'}\n",
      "###################\n",
      "Index: 125\n",
      "{'document_id': '25823269_en', 'text': 'vascular', 'entity_type': 'ANATOMY', 'spans': '1641-1649', 'UMLS_CUI': 'C0005847'}\n",
      "###################\n",
      "Index: 126\n",
      "{'document_id': '25823269_en', 'text': 'PAH-specific drugs', 'entity_type': 'CHEM', 'spans': '2280-2298', 'UMLS_CUI': 'C4020622'}\n",
      "###################\n",
      "Index: 127\n",
      "{'document_id': '25823269_en', 'text': 'stress-induced pulmonary hypertension', 'entity_type': 'DISO', 'spans': '286-323', 'UMLS_CUI': 'C1963220'}\n",
      "###################\n",
      "Index: 128\n",
      "{'document_id': '25823269_en', 'text': 'NT-proBNP', 'entity_type': 'CHEM', 'spans': '2092-2101', 'UMLS_CUI': 'C0640411'}\n",
      "###################\n",
      "Index: 129\n",
      "{'document_id': '25823269_en', 'text': 'bosentan', 'entity_type': 'CHEM', 'spans': '1961-1969', 'UMLS_CUI': 'C0252643'}\n",
      "###################\n",
      "Index: 130\n",
      "{'document_id': '25823269_en', 'text': 'NT-proBNP', 'entity_type': 'CHEM', 'spans': '1845-1854', 'UMLS_CUI': 'C0640411'}\n",
      "###################\n",
      "Index: 131\n",
      "{'document_id': '25823269_en', 'text': 'stress-induced pulmonary hypertension', 'entity_type': 'DISO', 'spans': '31-68', 'UMLS_CUI': 'C1963220'}\n",
      "###################\n",
      "Index: 132\n",
      "{'document_id': '25823269_en', 'text': 'anti-centromere antibodies', 'entity_type': 'CHEM', 'spans': '1883-1909', 'UMLS_CUI': 'C0236514'}\n",
      "###################\n",
      "Index: 133\n",
      "{'document_id': '25823269_en', 'text': 'pulmonary hypertension', 'entity_type': 'DISO', 'spans': '301-323', 'UMLS_CUI': 'C1963220'}\n",
      "###################\n",
      "Index: 134\n",
      "{'document_id': '25823269_en', 'text': 'pulmonary', 'entity_type': 'ANATOMY', 'spans': '903-912', 'UMLS_CUI': 'C4522268'}\n",
      "###################\n",
      "Index: 135\n",
      "{'document_id': '25823269_en', 'text': 'pulmonary vasculopathy', 'entity_type': 'DISO', 'spans': '2190-2212', 'UMLS_CUI': 'C0854416'}\n",
      "###################\n",
      "Index: 136\n",
      "{'document_id': '25823269_en', 'text': 'pulmonary artery', 'entity_type': 'ANATOMY', 'spans': '188-204', 'UMLS_CUI': 'C0545747'}\n",
      "###################\n",
      "Index: 137\n",
      "{'document_id': '25823269_en', 'text': 'left heart', 'entity_type': 'ANATOMY', 'spans': '481-491', 'UMLS_CUI': 'C0225809'}\n",
      "###################\n",
      "Index: 138\n",
      "{'document_id': '25823269_en', 'text': 'pulmonary arterial', 'entity_type': 'ANATOMY', 'spans': '903-921', 'UMLS_CUI': 'C0545747'}\n",
      "###################\n",
      "Index: 139\n",
      "{'document_id': '25823269_en', 'text': 'hypertension', 'entity_type': 'DISO', 'spans': '311-323', 'UMLS_CUI': 'C1963138'}\n",
      "###################\n",
      "Index: 140\n",
      "{'document_id': '25823269_en', 'text': 'PH', 'entity_type': 'DISO', 'spans': '467-469', 'UMLS_CUI': 'C4318402'}\n",
      "###################\n",
      "Index: 141\n",
      "{'document_id': '25823269_en', 'text': 'PH', 'entity_type': 'DISO', 'spans': '1172-1174', 'UMLS_CUI': 'C4318402'}\n",
      "###################\n",
      "Index: 142\n",
      "{'document_id': '25823269_en', 'text': 'right atrial', 'entity_type': 'ANATOMY', 'spans': '646-658', 'UMLS_CUI': 'C0225844'}\n",
      "###################\n",
      "Index: 143\n",
      "{'document_id': '25823269_en', 'text': 'SIPH', 'entity_type': 'DISO', 'spans': '1796-1800', 'UMLS_CUI': 'C1704971'}\n",
      "###################\n",
      "Index: 144\n",
      "{'document_id': '25823269_en', 'text': 'pulmonary artery', 'entity_type': 'ANATOMY', 'spans': '714-730', 'UMLS_CUI': 'C0545747'}\n",
      "###################\n",
      "Index: 145\n",
      "{'document_id': '25823269_en', 'text': 'pulmonary artery', 'entity_type': 'ANATOMY', 'spans': '565-581', 'UMLS_CUI': 'C0545747'}\n",
      "###################\n",
      "Index: 146\n",
      "{'document_id': '25823269_en', 'text': 'pulmonary hypertension', 'entity_type': 'DISO', 'spans': '46-68', 'UMLS_CUI': 'C1963220'}\n",
      "###################\n",
      "Index: 147\n",
      "{'document_id': '25823269_en', 'text': 'pulmonary hypertension', 'entity_type': 'DISO', 'spans': '443-465', 'UMLS_CUI': 'C1963220'}\n",
      "###################\n",
      "Index: 148\n",
      "{'document_id': '25823269_en', 'text': 'pulmonary', 'entity_type': 'ANATOMY', 'spans': '301-310', 'UMLS_CUI': 'C4522268'}\n",
      "###################\n",
      "Index: 149\n",
      "{'document_id': '25823269_en', 'text': 'lung', 'entity_type': 'ANATOMY', 'spans': '1926-1930', 'UMLS_CUI': 'C4037972'}\n",
      "###################\n",
      "Index: 150\n",
      "{'document_id': '25823269_en', 'text': 'thromboembolism', 'entity_type': 'DISO', 'spans': '505-520', 'UMLS_CUI': 'C0040038'}\n",
      "###################\n",
      "Index: 151\n",
      "{'document_id': '25823269_en', 'text': 'pulmonary', 'entity_type': 'ANATOMY', 'spans': '443-452', 'UMLS_CUI': 'C4522268'}\n",
      "###################\n",
      "Index: 152\n",
      "{'document_id': '25823269_en', 'text': 'lung', 'entity_type': 'ANATOMY', 'spans': '472-476', 'UMLS_CUI': 'C4037972'}\n",
      "###################\n",
      "Index: 153\n",
      "{'document_id': '25823269_en', 'text': 'pulmonary', 'entity_type': 'ANATOMY', 'spans': '188-197', 'UMLS_CUI': 'C4522268'}\n",
      "###################\n",
      "Index: 154\n",
      "{'document_id': '25823269_en', 'text': 'pulmonary', 'entity_type': 'ANATOMY', 'spans': '46-55', 'UMLS_CUI': 'C4522268'}\n",
      "###################\n",
      "Index: 155\n",
      "{'document_id': '25823269_en', 'text': 'pulmonary', 'entity_type': 'ANATOMY', 'spans': '565-574', 'UMLS_CUI': 'C4522268'}\n",
      "###################\n",
      "Index: 156\n",
      "{'document_id': '25842921_en', 'text': 'myocardium', 'entity_type': 'ANATOMY', 'spans': '1893-1903', 'UMLS_CUI': 'C0027061'}\n",
      "###################\n",
      "Index: 157\n",
      "{'document_id': '25842921_en', 'text': 'chronic CHD', 'entity_type': 'DISO', 'spans': '2093-2104', 'UMLS_CUI': 'C1290386'}\n",
      "###################\n",
      "Index: 158\n",
      "{'document_id': '25842921_en', 'text': 'occurring lesions', 'entity_type': 'DISO', 'spans': '1534-1551', 'UMLS_CUI': 'C2071490'}\n",
      "###################\n",
      "Index: 159\n",
      "{'document_id': '25842921_en', 'text': 'microhemocirculatory bed', 'entity_type': 'ANATOMY', 'spans': '1053-1077', 'UMLS_CUI': 'C1513268'}\n",
      "###################\n",
      "Index: 160\n",
      "{'document_id': '25842921_en', 'text': 'cardiomyopathy', 'entity_type': 'DISO', 'spans': '35-49', 'UMLS_CUI': 'C3277282'}\n",
      "###################\n",
      "Index: 161\n",
      "{'document_id': '25842921_en', 'text': 'cardiomyopathy', 'entity_type': 'DISO', 'spans': '84-98', 'UMLS_CUI': 'C3277282'}\n",
      "###################\n",
      "Index: 162\n",
      "{'document_id': '25842921_en', 'text': 'chronic heart disease', 'entity_type': 'DISO', 'spans': '151-172', 'UMLS_CUI': 'C1290386'}\n",
      "###################\n",
      "Index: 163\n",
      "{'document_id': '25842921_en', 'text': 'myocardial', 'entity_type': 'ANATOMY', 'spans': '1158-1168', 'UMLS_CUI': 'C0027061'}\n",
      "###################\n",
      "Index: 164\n",
      "{'document_id': '25842921_en', 'text': 'myocardial', 'entity_type': 'ANATOMY', 'spans': '1738-1748', 'UMLS_CUI': 'C0027061'}\n",
      "###################\n",
      "Index: 165\n",
      "{'document_id': '25842921_en', 'text': 'hypoxia', 'entity_type': 'DISO', 'spans': '1130-1137', 'UMLS_CUI': 'C1963140'}\n",
      "###################\n",
      "Index: 166\n",
      "{'document_id': '25842921_en', 'text': 'hypoxia', 'entity_type': 'DISO', 'spans': '1966-1973', 'UMLS_CUI': 'C1963140'}\n",
      "###################\n",
      "Index: 167\n",
      "{'document_id': '25842921_en', 'text': 'ischemic cardiomyopathy', 'entity_type': 'DISO', 'spans': '75-98', 'UMLS_CUI': 'C1960867'}\n",
      "###################\n",
      "Index: 168\n",
      "{'document_id': '25842921_en', 'text': 'myocardial tissue', 'entity_type': 'ANATOMY', 'spans': '1485-1502', 'UMLS_CUI': 'C2327232'}\n",
      "###################\n",
      "Index: 169\n",
      "{'document_id': '25842921_en', 'text': 'heart disease', 'entity_type': 'DISO', 'spans': '159-172', 'UMLS_CUI': 'C1971641'}\n",
      "###################\n",
      "Index: 170\n",
      "{'document_id': '25842921_en', 'text': 'damage to lymph capillaries', 'entity_type': 'DISO', 'spans': '1275-1284,1323-1340', 'UMLS_CUI': 'C1382398'}\n",
      "###################\n",
      "Index: 171\n",
      "{'document_id': '25842921_en', 'text': 'heart', 'entity_type': 'ANATOMY', 'spans': '159-164', 'UMLS_CUI': 'C1281570'}\n",
      "###################\n",
      "Index: 172\n",
      "{'document_id': '25842921_en', 'text': 'damage to the vascular bed', 'entity_type': 'DISO', 'spans': '1454-1480', 'UMLS_CUI': 'C1389629'}\n",
      "###################\n",
      "Index: 173\n",
      "{'document_id': '25842921_en', 'text': 'diffuse cardiosclerosis', 'entity_type': 'DISO', 'spans': '1572-1595', 'UMLS_CUI': 'C1392034'}\n",
      "###################\n",
      "Index: 174\n",
      "{'document_id': '25842921_en', 'text': 'heart', 'entity_type': 'ANATOMY', 'spans': '206-211', 'UMLS_CUI': 'C1281570'}\n",
      "###################\n",
      "Index: 175\n",
      "{'document_id': '25842921_en', 'text': 'irregular diffuse cardiosclerosis', 'entity_type': 'DISO', 'spans': '1562-1595', 'UMLS_CUI': 'C1392034'}\n",
      "###################\n",
      "Index: 176\n",
      "{'document_id': '25842921_en', 'text': 'ischemic cardiomyopathy', 'entity_type': 'DISO', 'spans': '26-49', 'UMLS_CUI': 'C1960867'}\n",
      "###################\n",
      "Index: 177\n",
      "{'document_id': '25842921_en', 'text': 'cardiac', 'entity_type': 'ANATOMY', 'spans': '315-322', 'UMLS_CUI': 'C0018799'}\n",
      "###################\n",
      "Index: 178\n",
      "{'document_id': '25842921_en', 'text': 'triglyceride', 'entity_type': 'CHEM', 'spans': '852-864', 'UMLS_CUI': 'C0041004'}\n",
      "###################\n",
      "Index: 179\n",
      "{'document_id': '25842921_en', 'text': 'heart', 'entity_type': 'ANATOMY', 'spans': '2183-2188', 'UMLS_CUI': 'C1281570'}\n",
      "###################\n",
      "Index: 180\n",
      "{'document_id': '25842921_en', 'text': 'cardiosclerosis', 'entity_type': 'DISO', 'spans': '1580-1595', 'UMLS_CUI': 'C1392034'}\n",
      "###################\n",
      "Index: 181\n",
      "{'document_id': '25842921_en', 'text': 'aortocoronary', 'entity_type': 'ANATOMY', 'spans': '362-375', 'UMLS_CUI': 'C1409975'}\n",
      "###################\n",
      "Index: 182\n",
      "{'document_id': '25842921_en', 'text': 'lesions', 'entity_type': 'DISO', 'spans': '1544-1551', 'UMLS_CUI': 'C2071490'}\n",
      "###################\n",
      "Index: 183\n",
      "{'document_id': '25842921_en', 'text': 'myocardial', 'entity_type': 'ANATOMY', 'spans': '1485-1495', 'UMLS_CUI': 'C0027061'}\n",
      "###################\n",
      "Index: 184\n",
      "{'document_id': '25842921_en', 'text': 'damaged myocardium', 'entity_type': 'DISO', 'spans': '1885-1903', 'UMLS_CUI': 'C2919051'}\n",
      "###################\n",
      "Index: 185\n",
      "{'document_id': '25842921_en', 'text': 'microvessels', 'entity_type': 'ANATOMY', 'spans': '1285-1297', 'UMLS_CUI': 'C2350570'}\n",
      "###################\n",
      "Index: 186\n",
      "{'document_id': '25842921_en', 'text': 'capillaries', 'entity_type': 'ANATOMY', 'spans': '1329-1340', 'UMLS_CUI': 'C2325298'}\n",
      "###################\n",
      "Index: 187\n",
      "{'document_id': '25842921_en', 'text': 'damage to microvessels', 'entity_type': 'DISO', 'spans': '1275-1297', 'UMLS_CUI': 'C1389629'}\n",
      "###################\n",
      "Index: 188\n",
      "{'document_id': '25842921_en', 'text': 'vasopressin', 'entity_type': 'CHEM', 'spans': '931-942', 'UMLS_CUI': 'C1705480'}\n",
      "###################\n",
      "Index: 189\n",
      "{'document_id': '25842921_en', 'text': 'coronary', 'entity_type': 'ANATOMY', 'spans': '1836-1844', 'UMLS_CUI': 'C0010075'}\n",
      "###################\n",
      "Index: 190\n",
      "{'document_id': '25842921_en', 'text': 'coronary insufficiency', 'entity_type': 'DISO', 'spans': '536-558', 'UMLS_CUI': 'C0542052'}\n",
      "###################\n",
      "Index: 191\n",
      "{'document_id': '25842921_en', 'text': 'ICM', 'entity_type': 'DISO', 'spans': '2145-2148', 'UMLS_CUI': 'C0643540'}\n",
      "###################\n",
      "Index: 192\n",
      "{'document_id': '25842921_en', 'text': 'cardiomyocyte', 'entity_type': 'ANATOMY', 'spans': '1683-1696', 'UMLS_CUI': 'C0920751'}\n",
      "###################\n",
      "Index: 193\n",
      "{'document_id': '25842921_en', 'text': 'coronary atherosclerosis', 'entity_type': 'DISO', 'spans': '1836-1860', 'UMLS_CUI': 'C0010054'}\n",
      "###################\n",
      "Index: 194\n",
      "{'document_id': '25842921_en', 'text': 'atherosclerosis', 'entity_type': 'DISO', 'spans': '1845-1860', 'UMLS_CUI': 'C0004153'}\n",
      "###################\n",
      "Index: 195\n",
      "{'document_id': '25842921_en', 'text': 'atherosclerosis', 'entity_type': 'DISO', 'spans': '466-481', 'UMLS_CUI': 'C0004153'}\n",
      "###################\n",
      "Index: 196\n",
      "{'document_id': '25842921_en', 'text': 'cholesterol', 'entity_type': 'CHEM', 'spans': '836-847', 'UMLS_CUI': 'C0578550'}\n",
      "###################\n",
      "Index: 197\n",
      "{'document_id': '25842921_en', 'text': 'damage to nerve endings', 'entity_type': 'DISO', 'spans': '1275-1284,1346-1359', 'UMLS_CUI': 'C3888655'}\n",
      "###################\n",
      "Index: 198\n",
      "{'document_id': '25842921_en', 'text': 'trophic component', 'entity_type': 'CHEM', 'spans': '1028-1045', 'UMLS_CUI': 'C4021220'}\n",
      "###################\n",
      "Index: 199\n",
      "{'document_id': '25842921_en', 'text': 'trophic', 'entity_type': 'CHEM', 'spans': '1028-1035', 'UMLS_CUI': 'C4021220'}\n"
     ]
    }
   ],
   "source": [
    "for i in range(100, 200):\n",
    "    print(\"###################\")\n",
    "    print(f\"Index: {i}\")\n",
    "    print(dataset[i])"
   ]
  },
  {
   "cell_type": "code",
   "execution_count": null,
   "id": "358b46a5-72ac-4e79-8a9c-345ce5c9d94e",
   "metadata": {},
   "outputs": [],
   "source": []
  },
  {
   "cell_type": "code",
   "execution_count": null,
   "id": "16c64605-c73a-4507-90d9-ca816eb99bec",
   "metadata": {},
   "outputs": [],
   "source": []
  },
  {
   "cell_type": "code",
   "execution_count": null,
   "id": "1be2d12d-6592-404f-964b-cb65f0df64a7",
   "metadata": {},
   "outputs": [],
   "source": []
  },
  {
   "cell_type": "code",
   "execution_count": null,
   "id": "f5e3b19e-dbce-40c7-b308-ed730402deef",
   "metadata": {},
   "outputs": [],
   "source": []
  },
  {
   "cell_type": "code",
   "execution_count": null,
   "id": "5af2a92f-17d9-4f5d-a193-e840c5956371",
   "metadata": {},
   "outputs": [],
   "source": []
  },
  {
   "cell_type": "code",
   "execution_count": null,
   "id": "03f11017-286b-4231-aeb4-64e9c19b9ba8",
   "metadata": {},
   "outputs": [],
   "source": []
  },
  {
   "cell_type": "code",
   "execution_count": null,
   "id": "9783d0f8-7fd7-4ee9-a150-2aac7a1241d0",
   "metadata": {},
   "outputs": [],
   "source": []
  },
  {
   "cell_type": "code",
   "execution_count": null,
   "id": "3fc1d753-ac53-42e5-8636-e7b945c544c3",
   "metadata": {},
   "outputs": [],
   "source": []
  },
  {
   "cell_type": "code",
   "execution_count": null,
   "id": "af5d937b-7a9d-43a3-b298-9805dd84cf16",
   "metadata": {},
   "outputs": [],
   "source": []
  },
  {
   "cell_type": "code",
   "execution_count": null,
   "id": "bc33f585-a504-423d-97b1-93dd13c47349",
   "metadata": {},
   "outputs": [],
   "source": []
  },
  {
   "cell_type": "code",
   "execution_count": null,
   "id": "0f4cded9-ef13-4a9a-9b2b-b3a4fb51f9c6",
   "metadata": {},
   "outputs": [],
   "source": []
  },
  {
   "cell_type": "code",
   "execution_count": null,
   "id": "90d054b5-4043-4387-bb22-70da07ff1cdc",
   "metadata": {},
   "outputs": [],
   "source": []
  },
  {
   "cell_type": "code",
   "execution_count": null,
   "id": "600db4cd-ef28-4d70-9ef7-d4d97d234447",
   "metadata": {},
   "outputs": [],
   "source": []
  },
  {
   "cell_type": "code",
   "execution_count": null,
   "id": "9ba8e6d8-3e77-452b-b608-2e403c43cc3f",
   "metadata": {},
   "outputs": [],
   "source": []
  },
  {
   "cell_type": "code",
   "execution_count": null,
   "id": "84e847f0-ba5d-49bb-a94f-8e552b54099c",
   "metadata": {},
   "outputs": [],
   "source": []
  }
 ],
 "metadata": {
  "kernelspec": {
   "display_name": "Python 3 (ipykernel)",
   "language": "python",
   "name": "python3"
  },
  "language_info": {
   "codemirror_mode": {
    "name": "ipython",
    "version": 3
   },
   "file_extension": ".py",
   "mimetype": "text/x-python",
   "name": "python",
   "nbconvert_exporter": "python",
   "pygments_lexer": "ipython3",
   "version": "3.8.20"
  }
 },
 "nbformat": 4,
 "nbformat_minor": 5
}
